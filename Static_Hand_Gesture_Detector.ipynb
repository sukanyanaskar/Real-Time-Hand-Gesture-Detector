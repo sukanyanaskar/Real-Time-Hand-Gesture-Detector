{
 "cells": [
  {
   "cell_type": "code",
   "execution_count": null,
   "id": "3b505f41",
   "metadata": {},
   "outputs": [
    {
     "name": "stdout",
     "output_type": "stream",
     "text": [
      "\n",
      "\n",
      "['fist', 'okay']\n",
      "\n",
      "\n",
      "[[0.57920545 0.4207946 ]]\n",
      "fist\n"
     ]
    }
   ],
   "source": [
    "import numpy\n",
    "import cv2\n",
    "import mediapipe as mp\n",
    "import tensorflow as tf\n",
    "from tensorflow.keras.models import load_model\n",
    "\n",
    "# %pylab inline\n",
    "# import matplotlib.pyplot as plt\n",
    "# import matplotlib.image as mpimg\n",
    "\n",
    "\n",
    "## loading mediapipe model\n",
    "mp_hands = mp.solutions.hands\n",
    "mp_drawing = mp.solutions.drawing_utils\n",
    "mp_drawing_styles = mp.solutions.drawing_styles\n",
    "\n",
    "################ Load the gesture recognizer model\n",
    "model = load_model('HandGesture_Model')\n",
    "\n",
    "# Print types of gestures included in this project\n",
    "with open('list_of_gestures.names', 'r') as f:\n",
    "    gestures = f.read().split('\\n')\n",
    "\n",
    "    print((\"\\n\\n\" + str(gestures)) + \"\\n\\n\")\n",
    "\n",
    "with mp_hands.Hands(static_image_mode=True, max_num_hands=2, min_detection_confidence=0.5) as hands:\n",
    "    frame = cv2.imread(r'C:\\Users\\ENASSUK\\OneDrive - Ericsson\\Downloads\\Python_Code_For_GIThub\\4.jpg')\n",
    "    x, y, c = frame.shape\n",
    "    frame = cv2.flip(frame, 1)\n",
    "    results = hands.process(cv2.cvtColor(frame, cv2.COLOR_RGB2BGR))\n",
    "    \n",
    "    op_gesture = ''\n",
    "    if results.multi_hand_landmarks != None:\n",
    "        for hand_landmarks in results.multi_hand_landmarks:\n",
    "            mp_drawing.draw_landmarks(frame, hand_landmarks, mp_hands.HAND_CONNECTIONS, mp_drawing_styles.get_default_hand_landmarks_style(), mp_drawing_styles.get_default_hand_connections_style())\n",
    "            landmarks = []\n",
    "            for lm in hand_landmarks.landmark:\n",
    "                lmx = (lm.x * y)\n",
    "                lmy = (lm.y * x)\n",
    "                landmarks.append([lmx, lmy])                   \n",
    "\n",
    "            # Detect Gesture\n",
    "            prediction = model.predict([landmarks])\n",
    "            print(prediction)\n",
    "            index = numpy.argmax(prediction)\n",
    "            op_gesture = gestures[index]\n",
    "    print(op_gesture)\n",
    "\n",
    "    cv2.putText(frame, op_gesture, (10, 50), cv2.FONT_ITALIC, 1, (0,0,0), 2, cv2.LINE_AA)  \n",
    "    cv2.imshow('Test image', frame)\n",
    "cv2.waitKey(0)\n",
    "\n",
    "# When we exit we have to stop the capture and destroy all ative windows\n",
    "cv2.destroyAllWindows()\n",
    "    "
   ]
  },
  {
   "cell_type": "code",
   "execution_count": null,
   "id": "26c511ca",
   "metadata": {},
   "outputs": [],
   "source": []
  }
 ],
 "metadata": {
  "kernelspec": {
   "display_name": "Python 3",
   "language": "python",
   "name": "python3"
  },
  "language_info": {
   "codemirror_mode": {
    "name": "ipython",
    "version": 3
   },
   "file_extension": ".py",
   "mimetype": "text/x-python",
   "name": "python",
   "nbconvert_exporter": "python",
   "pygments_lexer": "ipython3",
   "version": "3.9.0"
  }
 },
 "nbformat": 4,
 "nbformat_minor": 5
}
