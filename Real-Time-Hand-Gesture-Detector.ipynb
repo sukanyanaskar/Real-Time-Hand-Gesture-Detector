{
 "cells": [
  {
   "cell_type": "code",
   "execution_count": 2,
   "id": "d2bc4155",
   "metadata": {
    "scrolled": true
   },
   "outputs": [
    {
     "name": "stdout",
     "output_type": "stream",
     "text": [
      "\n",
      "\n",
      "['fist', 'okay']\n",
      "\n",
      "\n"
     ]
    }
   ],
   "source": [
    "#################################################\n",
    "#    REAL TIME HAND GESTURE DETECTOR            #                        \n",
    "#    by SUKANYA NASKAR                          #\n",
    "#    Last Modified - 26th Dec, 2021             #\n",
    "#################################################\n",
    "\n",
    "#############################################################################################################\n",
    "# Prerequisites ----                     \n",
    "# Python(ver 3.9.0) + OpenCV(ver 4.5.4.60) + Mediapipe(ver 0.8.9) + Numpy(ver 1.20.2) + Tensorflow(ver 2.7.0)\n",
    "#############################################################################################################\n",
    "\n",
    "import numpy\n",
    "import cv2\n",
    "import mediapipe as mp\n",
    "import tensorflow as tf\n",
    "from tensorflow.keras.models import load_model\n",
    "\n",
    "\n",
    "## loading mediapipe model\n",
    "mp_hands = mp.solutions.hands\n",
    "mp_drawing = mp.solutions.drawing_utils\n",
    "mp_drawing_styles = mp.solutions.drawing_styles\n",
    "\n",
    "# for webcam input\n",
    "hands = mp_hands.Hands(model_complexity=0, max_num_hands=1, min_detection_confidence=0.5, min_tracking_confidence=0.5)\n",
    "\n",
    "\n",
    "################ Load the gesture recognizer model\n",
    "model = load_model('HandGesture_Model')\n",
    "\n",
    "# Print types of gestures included in this project\n",
    "with open('list_of_gestures.names', 'r') as f:\n",
    "    gestures = f.read().split('\\n')\n",
    "\n",
    "    print((\"\\n\\n\" + str(gestures)) + \"\\n\\n\")\n",
    "\n",
    "\n",
    "#### Write a loop to capture Camera input \n",
    "\n",
    "video_capture = cv2.VideoCapture(0)\n",
    "\n",
    "while(True):\n",
    "    if not video_capture.isOpened():\n",
    "        print(\"\\n\\n ENABLE YOUR DEVICE WEBCAM AND START OVER.\\n\\n\")\n",
    "        break\n",
    "    else:\n",
    "        # Store the real time video capture and resize it in desired window size\n",
    "        success, frame = video_capture.read()\n",
    "        x, y, c = frame.shape\n",
    "        # to flip the frame vertically so it takes a mirror image of the user's hand\n",
    "        frame = cv2.flip(frame, 1)\n",
    "        frame = cv2.cvtColor(frame, cv2.COLOR_RGB2BGR)\n",
    "#         frame=cv2.resize(frame, (700, 500),interpolation = cv2.INTER_AREA)\n",
    "\n",
    "        # Get hand landmark prediction\n",
    "        result = hands.process(cv2.cvtColor(frame, cv2.COLOR_RGB2BGR))\n",
    "        \n",
    "        # Draw the hand annotations on the image.\n",
    "        frame.flags.writeable = True\n",
    "        #frame = cv2.cvtColor(frame, cv2.COLOR_RGB2BGR)\n",
    "        \n",
    "        op_gesture = ''\n",
    "        if result.multi_hand_landmarks:\n",
    "            for hand_landmarks in result.multi_hand_landmarks:\n",
    "                landmarks = []\n",
    "                mp_drawing.draw_landmarks(frame, hand_landmarks, mp_hands.HAND_CONNECTIONS, mp_drawing_styles.get_default_hand_landmarks_style(), mp_drawing_styles.get_default_hand_connections_style())\n",
    "                for lm in hand_landmarks.landmark:\n",
    "                    lmx = (lm.x)\n",
    "                    lmy = (lm.y)\n",
    "                    landmarks.append([lmx, lmy])\n",
    "                 \n",
    "                \n",
    "                # Detect Gesture\n",
    "                prediction = model.predict([landmarks])\n",
    "                \n",
    "                index = numpy.argmax(prediction)\n",
    "                \n",
    "                op_gesture = gestures[index]\n",
    "                \n",
    "                \n",
    "        # show the prediction on the frame\n",
    "        cv2.putText(frame, op_gesture, (10, 50), cv2.FONT_ITALIC, 1, (255,255,255), 2, cv2.LINE_AA)\n",
    "                \n",
    "        cv2.imshow(\"Let's Test Our Code\", frame)\n",
    "        # press 'x' to exit\n",
    "        if cv2.waitKey(1) == ord('x'):\n",
    "            break\n",
    "        \n",
    "# When we exit we have to stop the capture and destroy all ative windows\n",
    "video_capture.release()\n",
    "cv2.destroyAllWindows()\n",
    "    "
   ]
  },
  {
   "cell_type": "code",
   "execution_count": null,
   "id": "0793a046",
   "metadata": {
    "scrolled": false
   },
   "outputs": [],
   "source": []
  },
  {
   "cell_type": "code",
   "execution_count": null,
   "id": "82f84e68",
   "metadata": {},
   "outputs": [],
   "source": []
  }
 ],
 "metadata": {
  "kernelspec": {
   "display_name": "Python 3",
   "language": "python",
   "name": "python3"
  },
  "language_info": {
   "codemirror_mode": {
    "name": "ipython",
    "version": 3
   },
   "file_extension": ".py",
   "mimetype": "text/x-python",
   "name": "python",
   "nbconvert_exporter": "python",
   "pygments_lexer": "ipython3",
   "version": "3.9.0"
  }
 },
 "nbformat": 4,
 "nbformat_minor": 5
}
